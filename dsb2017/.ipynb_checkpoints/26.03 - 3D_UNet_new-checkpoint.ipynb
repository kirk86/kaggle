{
 "cells": [
  {
   "cell_type": "code",
   "execution_count": 1,
   "metadata": {
    "collapsed": false,
    "deletable": true,
    "editable": true
   },
   "outputs": [
    {
     "name": "stderr",
     "output_type": "stream",
     "text": [
      "Using TensorFlow backend.\n"
     ]
    }
   ],
   "source": [
    "import numpy as np \n",
    "import pandas as pd \n",
    "import skimage, os\n",
    "import SimpleITK as sitk\n",
    "from scipy import ndimage\n",
    "import matplotlib.pyplot as plt\n",
    "%matplotlib inline\n",
    "import os\n",
    "import zarr\n",
    "\n",
    "os.environ[\"CUDA_DEVICE_ORDER\"]=\"PCI_BUS_ID\"   # see issue #152\n",
    "os.environ[\"CUDA_VISIBLE_DEVICES\"]=\"1\"\n",
    "\n",
    "import tensorflow as tf\n",
    "from keras import backend as K\n",
    "K.set_image_dim_ordering('th') \n",
    "\n",
    "from keras.models import Sequential,load_model,Model\n",
    "from keras.layers import Dense, Dropout, Activation, Flatten\n",
    "from keras.layers import Convolution2D, MaxPooling2D\n",
    "from keras.layers import Input, merge, UpSampling2D\n",
    "from keras.optimizers import Adam\n",
    "from keras.preprocessing.image import ImageDataGenerator\n",
    "\n",
    "from keras.layers.convolutional import Convolution3D, MaxPooling3D, UpSampling3D\n",
    "from keras.layers import BatchNormalization\n",
    "from keras.callbacks import EarlyStopping, ModelCheckpoint\n",
    "from keras.layers.core import SpatialDropout3D\n",
    "from keras.models import load_model\n",
    "\n",
    "import warnings\n",
    "warnings.filterwarnings('ignore')\n",
    "from utils_3d import *"
   ]
  },
  {
   "cell_type": "code",
   "execution_count": 2,
   "metadata": {
    "collapsed": false,
    "deletable": true,
    "editable": true
   },
   "outputs": [],
   "source": [
    "def load_3d_data(start, end, size = 168, size_3d = None):\n",
    "    \n",
    "    mask_path = '/home/w/DS_Projects/Kaggle/DS Bowl 2017/LUNA/Data/nodules_3d/lung_mask/'.format(size)\n",
    "    nodules_path = '/home/w/DS_Projects/Kaggle/DS Bowl 2017/LUNA/Data/nodules_3d/nodule_mask/'.format(size)\n",
    "    patients = sorted([x for x in os.listdir(mask_path) if '.npy' in x])[start:end]\n",
    "    print('Loading {} patients,'.format(len(patients)), 'Start: {}, end: {}'.format(start, end))\n",
    "    masks = np.full((len(patients), 1, size_3d, size, size), 7.).astype('float32')\n",
    "    nodules = np.zeros((len(patients), 1, size_3d, size, size)).astype('float32')\n",
    "\n",
    "    for i in range(len(patients)):\n",
    "        mask = np.load(mask_path + patients[i]).astype('float32')\n",
    "        mask = mask.swapaxes(1, 0)\n",
    "        nod = np.load(nodules_path + patients[i]).astype('float32')\n",
    "        nod = nod.swapaxes(1, 0)\n",
    "        num_slices = mask.shape[1]\n",
    "        offset = (size_3d - num_slices)\n",
    "        if offset == 0:\n",
    "            masks[i, :, :, :, :] = mask[:, :, :, :]\n",
    "            nodules[i, :, :, :, :] = nod[:, :, :, :]\n",
    "        if offset > 0:\n",
    "            begin_offset = int(np.round(offset/2))\n",
    "            end_offset = int(offset - begin_offset)\n",
    "            masks[i, :, begin_offset:-end_offset, :, :] = mask[:, :, :, :]\n",
    "            nodules[i, :, begin_offset:-end_offset, :, :] = nod[:, :, :, :]\n",
    "        if offset < 0:\n",
    "            print('Slices lost, offset:', offset)\n",
    "            offset = -(size_3d - num_slices)\n",
    "            begin_offset = int(np.round(offset/2))\n",
    "            end_offset = int(offset - begin_offset)\n",
    "            masks[i, :, :, :, :] = mask[:, begin_offset:-end_offset, :, :]\n",
    "            nodules[i, :, :, :, :] = nod[:, begin_offset:-end_offset, :, :]\n",
    "\n",
    "    return masks, nodules"
   ]
  },
  {
   "cell_type": "code",
   "execution_count": 3,
   "metadata": {
    "collapsed": true,
    "deletable": true,
    "editable": true
   },
   "outputs": [],
   "source": [
    "def unet_model():\n",
    "    \n",
    "    inputs = Input(shape=(1, max_slices, img_size, img_size))\n",
    "    conv1 = Convolution3D(width, 3, 3, 3, activation = 'relu', border_mode='same')(inputs)\n",
    "    conv1 = BatchNormalization(axis = 1)(conv1)\n",
    "    conv1 = Convolution3D(width*2, 3, 3, 3, activation = 'relu', border_mode='same')(conv1)\n",
    "    conv1 = BatchNormalization(axis = 1)(conv1)\n",
    "    pool1 = MaxPooling3D(pool_size=(2, 2, 2), strides = (2, 2, 2), border_mode='same')(conv1)\n",
    "    \n",
    "    conv2 = Convolution3D(width*2, 3, 3, 3, activation = 'relu', border_mode='same')(pool1)\n",
    "    conv2 = BatchNormalization(axis = 1)(conv2)\n",
    "    conv2 = Convolution3D(width*4, 3, 3, 3, activation = 'relu', border_mode='same')(conv2)\n",
    "    conv2 = BatchNormalization(axis = 1)(conv2)\n",
    "    pool2 = MaxPooling3D(pool_size=(2, 2, 2), strides = (2, 2, 2), border_mode='same')(conv2)\n",
    "\n",
    "    conv3 = Convolution3D(width*4, 3, 3, 3, activation = 'relu', border_mode='same')(pool2)\n",
    "    conv3 = BatchNormalization(axis = 1)(conv3)\n",
    "    conv3 = Convolution3D(width*8, 3, 3, 3, activation = 'relu', border_mode='same')(conv3)\n",
    "    conv3 = BatchNormalization(axis = 1)(conv3)\n",
    "    pool3 = MaxPooling3D(pool_size=(2, 2, 2), strides = (2, 2, 2), border_mode='same')(conv3)\n",
    "    \n",
    "    conv4 = Convolution3D(width*8, 3, 3, 3, activation = 'relu', border_mode='same')(pool3)\n",
    "    conv4 = BatchNormalization(axis = 1)(conv4)\n",
    "    conv4 = Convolution3D(width*8, 3, 3, 3, activation = 'relu', border_mode='same')(conv4)\n",
    "    conv4 = BatchNormalization(axis = 1)(conv4)\n",
    "    conv4 = Convolution3D(width*16, 3, 3, 3, activation = 'relu', border_mode='same')(conv4)\n",
    "    conv4 = BatchNormalization(axis = 1)(conv4)\n",
    "\n",
    "    up5 = merge([UpSampling3D(size=(2, 2, 2))(conv4), conv3], mode='concat', concat_axis=1)\n",
    "    conv5 = SpatialDropout3D(0.2)(up5)\n",
    "    conv5 = Convolution3D(width*8, 3, 3, 3, activation = 'relu', border_mode='same')(conv5)\n",
    "    #conv5 = BatchNormalization()(conv5)\n",
    "    conv5 = Convolution3D(width*8, 3, 3, 3, activation = 'relu', border_mode='same')(conv5)\n",
    "    #conv5 = BatchNormalization()(conv5)\n",
    "    \n",
    "    up6 = merge([UpSampling3D(size=(2, 2, 2))(conv5), conv2], mode='concat', concat_axis=1)\n",
    "    conv6 = SpatialDropout3D(0.2)(up6)\n",
    "    conv6 = Convolution3D(width*4, 3, 3, 3, activation = 'relu', border_mode='same')(conv6)\n",
    "    #conv6 = BatchNormalization()(conv6)\n",
    "    conv6 = Convolution3D(width*4, 3, 3, 3, activation = 'relu', border_mode='same')(conv6)\n",
    "    #conv6 = BatchNormalization()(conv6)\n",
    "\n",
    "    up7 = merge([UpSampling3D(size=(2, 2, 2))(conv6), conv1], mode='concat', concat_axis=1)\n",
    "    conv7 = SpatialDropout3D(0.2)(up7)\n",
    "    conv7 = Convolution3D(width*2, 3, 3, 3, activation = 'relu', border_mode='same')(conv7)\n",
    "    #conv7 = BatchNormalization()(conv7)\n",
    "    conv7 = Convolution3D(width*2, 3, 3, 3, activation = 'relu', border_mode='same')(conv7)\n",
    "    #conv7 = BatchNormalization()(conv7)\n",
    "    \n",
    "    conv8 = Convolution3D(1, 1, 1, 1, activation='sigmoid')(conv7)\n",
    "\n",
    "    model = Model(input=inputs, output=conv8)\n",
    "    model.compile(optimizer=Adam(lr=1e-5), loss=dice_coef_loss, metrics=[dice_coef])\n",
    "\n",
    "    return model\n"
   ]
  },
  {
   "cell_type": "code",
   "execution_count": 4,
   "metadata": {
    "collapsed": true,
    "deletable": true,
    "editable": true
   },
   "outputs": [],
   "source": [
    "from sklearn.model_selection import train_test_split\n",
    "import time\n",
    "import gc\n",
    "    \n",
    "def unet_fit(name, size, max_slices, augment = False, load_check = False, check_name = None):\n",
    "    \n",
    "    callbacks = [EarlyStopping(monitor='val_loss', patience = 5, \n",
    "                                   verbose = 1),\n",
    "    ModelCheckpoint('/home/w/DS_Projects/Kaggle/DS Bowl 2017/Scripts/LUNA/CNN/Checkpoints/{}.h5'.format(name), \n",
    "                        monitor='val_loss', \n",
    "                        verbose = 0, save_best_only = True)]\n",
    "    t = time.time()\n",
    "  \n",
    "    model = unet_model()\n",
    "    lung_masks, nodule_masks = load_3d_data(start = 0, end = 1100, size_3d = max_slices, size = size)\n",
    "    \n",
    "    if augment:\n",
    "        print('Using augmented data')\n",
    "        scans_g, masks_g = augmentation(lung_masks, nodule_masks, 350)\n",
    "        X_train, X_valid, y_train, y_valid = train_test_split(scans_g, masks_g, test_size = 0.2, random_state = 111)\n",
    "        print('Training data shape: {}'.format(X_train.shape), '\\n', \n",
    "              'Validation data shape: {}'.format(X_valid.shape))\n",
    "        del lung_masks, nodule_masks, scans_g, masks_g\n",
    "        gc.collect()\n",
    "        print('Time it took to augment and split the data:', time.time() - t, '\\n')\n",
    "        \n",
    "    else:\n",
    "        print('Using not augmented data')\n",
    "        X_train, X_valid, y_train, y_valid = train_test_split(lung_masks, nodule_masks, test_size = 0.2, random_state = 111)\n",
    "        print('Training data shape: {}'.format(X_train.shape), '\\n', \n",
    "              'Validation data shape: {}'.format(X_valid.shape))\n",
    "\n",
    "        del lung_masks, nodule_masks\n",
    "        gc.collect()\n",
    "    \n",
    "    model.fit(X_train, y_train, batch_size = 1, nb_epoch = 50, verbose=1, shuffle=True, \n",
    "              validation_data = (X_valid, y_valid), callbacks = callbacks)\n",
    "    \n",
    "    return model\n"
   ]
  },
  {
   "cell_type": "code",
   "execution_count": null,
   "metadata": {
    "collapsed": false,
    "deletable": true,
    "editable": true
   },
   "outputs": [],
   "source": [
    "\n",
    "max_slices, full_slices = get_max_slices(0, 100)"
   ]
  },
  {
   "cell_type": "code",
   "execution_count": 5,
   "metadata": {
    "collapsed": false,
    "deletable": true,
    "editable": true,
    "scrolled": true
   },
   "outputs": [],
   "source": [
    "max_slices = 136\n",
    "width = 8\n",
    "img_size = 168\n",
    "smooth = 1.0\n",
    "\n",
    "img_rows = img_size\n",
    "img_cols = img_size\n",
    "\n",
    "#model = unet_fit('3D_UNet_newtry400pats', img_size, max_slices)"
   ]
  },
  {
   "cell_type": "code",
   "execution_count": null,
   "metadata": {
    "collapsed": false
   },
   "outputs": [
    {
     "name": "stdout",
     "output_type": "stream",
     "text": [
      "Loading 1100 patients, Start: 0, end: 1100\n"
     ]
    }
   ],
   "source": [
    "model = unet_fit('3D_UNet_newtry_full_cont', img_size, max_slices, load_check = True,\n",
    "                 check_name = '3D_UNet_newtry400pats')"
   ]
  },
  {
   "cell_type": "code",
   "execution_count": null,
   "metadata": {
    "collapsed": false,
    "deletable": true,
    "editable": true
   },
   "outputs": [],
   "source": [
    "lung_masks2, nodule_masks2 = load_3d_data(start = 50, end = 55, size_3d = max_slices, size = 168)"
   ]
  },
  {
   "cell_type": "code",
   "execution_count": null,
   "metadata": {
    "collapsed": true,
    "deletable": true,
    "editable": true
   },
   "outputs": [],
   "source": [
    "preds = model.predict(lung_masks2, batch_size = 1)\n",
    "print_mask(lung_masks2[4][0][70], nodule_masks2[4][0][70])"
   ]
  },
  {
   "cell_type": "code",
   "execution_count": null,
   "metadata": {
    "collapsed": false,
    "deletable": true,
    "editable": true
   },
   "outputs": [],
   "source": [
    "preds[2][0][50]"
   ]
  },
  {
   "cell_type": "code",
   "execution_count": null,
   "metadata": {
    "collapsed": true,
    "deletable": true,
    "editable": true
   },
   "outputs": [],
   "source": []
  }
 ],
 "metadata": {
  "kernelspec": {
   "display_name": "Python 3",
   "language": "python",
   "name": "python3"
  },
  "language_info": {
   "codemirror_mode": {
    "name": "ipython",
    "version": 3
   },
   "file_extension": ".py",
   "mimetype": "text/x-python",
   "name": "python",
   "nbconvert_exporter": "python",
   "pygments_lexer": "ipython3",
   "version": "3.5.2"
  }
 },
 "nbformat": 4,
 "nbformat_minor": 2
}
