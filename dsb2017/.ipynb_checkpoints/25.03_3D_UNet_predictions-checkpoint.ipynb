{
 "cells": [
  {
   "cell_type": "code",
   "execution_count": 1,
   "metadata": {
    "collapsed": false,
    "deletable": true,
    "editable": true
   },
   "outputs": [
    {
     "name": "stderr",
     "output_type": "stream",
     "text": [
      "Using TensorFlow backend.\n"
     ]
    }
   ],
   "source": [
    "import numpy as np \n",
    "import pandas as pd \n",
    "import skimage, os\n",
    "import SimpleITK as sitk\n",
    "from scipy import ndimage\n",
    "import matplotlib.pyplot as plt\n",
    "%matplotlib inline\n",
    "import os\n",
    "import zarr\n",
    "\n",
    "os.environ[\"CUDA_DEVICE_ORDER\"]=\"PCI_BUS_ID\"   # see issue #152\n",
    "os.environ[\"CUDA_VISIBLE_DEVICES\"]=\"1\"\n",
    "\n",
    "import tensorflow as tf\n",
    "from keras import backend as K\n",
    "K.set_image_dim_ordering('th') \n",
    "\n",
    "from keras.models import Sequential,load_model,Model\n",
    "from keras.layers import Dense, Dropout, Activation, Flatten\n",
    "from keras.layers import Convolution2D, MaxPooling2D\n",
    "from keras.layers import Input, merge, UpSampling2D\n",
    "from keras.optimizers import Adam\n",
    "from keras.preprocessing.image import ImageDataGenerator\n",
    "\n",
    "from keras.layers.convolutional import Convolution3D, MaxPooling3D, UpSampling3D\n",
    "from keras.layers import BatchNormalization\n",
    "from keras.callbacks import EarlyStopping, ModelCheckpoint\n",
    "from keras.layers.core import SpatialDropout3D\n",
    "from keras.models import load_model\n",
    "\n",
    "import warnings\n",
    "warnings.filterwarnings('ignore')\n",
    "\n",
    "\n",
    "        \n",
    "def print_mask(lung_m, nodule_m):\n",
    "    fig, ax = plt.subplots(1,2, figsize=(20,16))\n",
    "    ax[0].imshow(lung_m, cmap = plt.cm.bone)\n",
    "    ax[1].imshow(nodule_m, cmap = plt.cm.bone)\n",
    "    return\n",
    "    \n",
    "def get_max_slices(start, end):\n",
    "    mask_path = '/home/w/DS_Projects/Kaggle/DS Bowl 2017/LUNA/Data/nodules_3d/lung_mask/'\n",
    "    nodules_path = '/home/w/DS_Projects/Kaggle/DS Bowl 2017/LUNA/Data/nodules_3d/nodule_mask/'\n",
    "    patients = os.listdir(mask_path)[start:end]\n",
    "    max_slices = 0\n",
    "    full_slices = 0\n",
    "    for i in range(len(patients)):\n",
    "        num_slices = np.load(nodules_path + patients[i]).astype('float16').shape[0]\n",
    "        full_slices += num_slices\n",
    "        if num_slices > max_slices:\n",
    "            max_slices = num_slices\n",
    "    print('Number of max slices in CT image: {}'.format(max_slices))\n",
    "    print('Number of 2D slices in CT image: {}'.format(full_slices))\n",
    "    return max_slices, full_slices\n",
    "\n",
    "\n",
    "# In[3]:\n",
    "\n",
    "def load_3d_data(start, end, size = 168, size_3d = 128, normalize = False):\n",
    "    \n",
    "    mask_path = '/home/w/DS_Projects/Kaggle/DS Bowl 2017/LUNA/Data/nodules_3d/lung_mask/'.format(size)\n",
    "    nodules_path = '/home/w/DS_Projects/Kaggle/DS Bowl 2017/LUNA/Data/nodules_3d/nodule_mask/'.format(size)\n",
    "    patients = sorted([x for x in os.listdir(mask_path) if '.npy' in x])[start:end]\n",
    "    print('Loading {} patients,'.format(len(patients)), 'Start: {}, end: {}'.format(start, end))\n",
    "    if normalize:\n",
    "        masks = np.full((len(patients), 1, size_3d, size, size), 0.019607).astype('float32')\n",
    "        nodules = np.zeros((len(patients), 1, size_3d, size, size)).astype('float32')\n",
    "    else:\n",
    "        masks = np.full((len(patients), 1, size_3d, size, size), threshold_min).astype('float32')\n",
    "        nodules = np.zeros((len(patients), 1, size_3d, size, size)).astype('float32')\n",
    "        \n",
    "    for i in range(len(patients)):\n",
    "        mask = np.load(mask_path + patients[i]).astype('float32')\n",
    "        mask = mask.swapaxes(1, 0)\n",
    "        nod = np.load(nodules_path + patients[i]).astype('float32')\n",
    "        nod = nod.swapaxes(1, 0)\n",
    "        num_slices = mask.shape[1]\n",
    "        offset = (size_3d - num_slices)\n",
    "        if offset == 0:\n",
    "            masks[i, :, :, :, :] = mask[:, :, :, :]\n",
    "            nodules[i, :, :, :, :] = nod[:, :, :, :]\n",
    "        if offset > 0:\n",
    "            begin_offset = int(np.round(offset/2))\n",
    "            end_offset = int(offset - begin_offset)\n",
    "            masks[i, :, begin_offset:-end_offset, :, :] = mask[:, :, :, :]\n",
    "            nodules[i, :, begin_offset:-end_offset, :, :] = nod[:, :, :, :]\n",
    "        if offset < 0:\n",
    "            offset = -(size_3d - num_slices)\n",
    "            begin_offset = int(np.round(offset/2))\n",
    "            end_offset = int(offset - begin_offset)\n",
    "            masks[i, :, :, :, :] = mask[:, begin_offset:-end_offset, :, :]\n",
    "            nodules[i, :, :, :, :] = nod[:, begin_offset:-end_offset, :, :]\n",
    "\n",
    "    return masks, nodules\n",
    "\n",
    "def dice_coef(y_true, y_pred):\n",
    "    smooth = 1.\n",
    "    y_true_f = K.flatten(y_true)\n",
    "    y_pred_f = K.flatten(y_pred)\n",
    "    intersection = K.sum(y_true_f * y_pred_f)\n",
    "    return (2. * intersection + smooth) / (K.sum(y_true_f) + K.sum(y_pred_f) + smooth)\n",
    "\n",
    "def dice_coef_loss(y_true, y_pred):\n",
    "    return -dice_coef(y_true, y_pred)"
   ]
  },
  {
   "cell_type": "code",
   "execution_count": 2,
   "metadata": {
    "collapsed": false,
    "deletable": true,
    "editable": true
   },
   "outputs": [],
   "source": [
    "\n",
    "threshold_min = -2000\n",
    "smooth = 1.0\n",
    "end = 500\n",
    "\n",
    "#max_slices, full_slices = get_max_slices(0, end)\n",
    "max_slices = 136\n",
    "width = 64\n",
    "img_size = 168\n",
    "\n",
    "\n",
    "img_rows = img_size\n",
    "img_cols = img_size"
   ]
  },
  {
   "cell_type": "code",
   "execution_count": 3,
   "metadata": {
    "collapsed": true,
    "deletable": true,
    "editable": true
   },
   "outputs": [],
   "source": [
    "def model_load(name):\n",
    "    check_model = '/home/w/DS_Projects/Kaggle/DS Bowl 2017/Scripts/LUNA/CNN/Checkpoints/{}.h5'.format(name)\n",
    "    model = load_model(check_model, custom_objects={'dice_coef_loss': dice_coef_loss, 'dice_coef': dice_coef})\n",
    "    return model"
   ]
  },
  {
   "cell_type": "code",
   "execution_count": 4,
   "metadata": {
    "collapsed": false,
    "deletable": true,
    "editable": true,
    "scrolled": true
   },
   "outputs": [],
   "source": [
    "model = model_load('3D_UNet_raw_800pats_gpu1')"
   ]
  },
  {
   "cell_type": "code",
   "execution_count": 9,
   "metadata": {
    "collapsed": false,
    "deletable": true,
    "editable": true
   },
   "outputs": [
    {
     "name": "stdout",
     "output_type": "stream",
     "text": [
      "('Loading 25 patients,', 'Start: 500, end: 525')\n"
     ]
    }
   ],
   "source": [
    "ms, nds = load_3d_data(start = 500, end = 525, size = 168, size_3d = 128, normalize = False)"
   ]
  },
  {
   "cell_type": "code",
   "execution_count": 10,
   "metadata": {
    "collapsed": false,
    "deletable": true,
    "editable": true
   },
   "outputs": [],
   "source": [
    "preds = model.predict(ms, batch_size = 2)"
   ]
  },
  {
   "cell_type": "code",
   "execution_count": 13,
   "metadata": {
    "collapsed": false,
    "scrolled": true
   },
   "outputs": [
    {
     "data": {
      "text/plain": [
       "array([[[  4.77361300e-06,   4.32239311e-09,   2.12008345e-11, ...,\n",
       "           5.21702889e-11,   5.79947779e-09,   1.37323595e-05],\n",
       "        [  5.09117051e-08,   9.67968275e-11,   8.58457728e-15, ...,\n",
       "           5.77946893e-20,   2.68685759e-16,   2.24376393e-08],\n",
       "        [  5.66882985e-09,   7.95147639e-13,   1.26162166e-17, ...,\n",
       "           6.53358083e-26,   1.47313927e-19,   5.66092839e-10],\n",
       "        ..., \n",
       "        [  6.11198132e-08,   7.38385811e-11,   4.59494071e-15, ...,\n",
       "           5.19356721e-19,   1.70990530e-15,   1.28349127e-08],\n",
       "        [  1.67579959e-08,   3.22249727e-11,   6.15379330e-14, ...,\n",
       "           1.74826475e-16,   6.52284108e-13,   8.61572360e-08],\n",
       "        [  1.04625906e-06,   2.81926393e-08,   3.73879899e-10, ...,\n",
       "           5.99351790e-10,   2.43480702e-08,   7.83979885e-06]],\n",
       "\n",
       "       [[  3.62537378e-09,   2.62371451e-13,   2.22838916e-19, ...,\n",
       "           5.08748585e-18,   1.27874637e-15,   7.24447524e-09],\n",
       "        [  1.26117328e-11,   1.58051583e-17,   2.22613805e-26, ...,\n",
       "           5.55042101e-32,   4.45806745e-25,   9.42597004e-16],\n",
       "        [  3.10751689e-14,   1.86541219e-22,   5.82342693e-33, ...,\n",
       "           0.00000000e+00,   2.11406726e-33,   8.40100243e-19],\n",
       "        ..., \n",
       "        [  7.66482147e-13,   4.93409479e-21,   7.41031518e-29, ...,\n",
       "           3.17065615e-37,   2.33347767e-28,   2.90612796e-16],\n",
       "        [  1.69190686e-11,   1.77221607e-16,   2.75102904e-21, ...,\n",
       "           2.41551921e-26,   2.71903185e-20,   4.61124194e-12],\n",
       "        [  1.79505388e-08,   7.51139263e-14,   7.86896255e-17, ...,\n",
       "           8.23383605e-18,   1.14665344e-13,   1.15112597e-09]],\n",
       "\n",
       "       [[  2.68854071e-11,   2.67789387e-16,   4.33527567e-23, ...,\n",
       "           8.36756702e-22,   6.06162296e-18,   1.40904663e-10],\n",
       "        [  1.14149201e-14,   6.61248311e-20,   4.02476664e-31, ...,\n",
       "           5.69028208e-34,   1.03090808e-25,   3.27081455e-16],\n",
       "        [  4.95122232e-18,   1.48601950e-26,   0.00000000e+00, ...,\n",
       "           0.00000000e+00,   1.87018593e-37,   6.23235678e-21],\n",
       "        ..., \n",
       "        [  1.60496004e-15,   2.74026830e-24,   3.70342400e-37, ...,\n",
       "           0.00000000e+00,   4.60166641e-34,   2.96921543e-17],\n",
       "        [  7.87893513e-13,   6.98785886e-18,   4.17039607e-26, ...,\n",
       "           4.03336981e-33,   1.80305855e-24,   2.79385673e-13],\n",
       "        [  1.16611554e-09,   2.79411521e-15,   1.13960957e-19, ...,\n",
       "           6.84806189e-22,   2.15220666e-17,   2.44209408e-09]],\n",
       "\n",
       "       ..., \n",
       "       [[  5.94251601e-12,   2.02247579e-16,   6.62855758e-24, ...,\n",
       "           1.01587552e-15,   6.08954640e-12,   1.93091862e-10],\n",
       "        [  2.11161716e-18,   2.58822477e-25,   2.28996889e-35, ...,\n",
       "           1.17438632e-26,   4.19342863e-20,   3.77313817e-16],\n",
       "        [  5.46041236e-24,   2.05962613e-34,   0.00000000e+00, ...,\n",
       "           1.53142362e-36,   2.77333348e-30,   4.61173613e-19],\n",
       "        ..., \n",
       "        [  1.13736624e-23,   3.05987336e-38,   0.00000000e+00, ...,\n",
       "           0.00000000e+00,   1.70698769e-35,   2.47865007e-24],\n",
       "        [  1.55052382e-19,   2.42019993e-30,   0.00000000e+00, ...,\n",
       "           0.00000000e+00,   6.16995636e-28,   3.05983156e-20],\n",
       "        [  7.39736506e-14,   2.03861080e-23,   7.53362164e-28, ...,\n",
       "           6.73783895e-27,   1.12412585e-20,   2.00502456e-14]],\n",
       "\n",
       "       [[  3.09910597e-10,   3.29905001e-14,   2.38114554e-20, ...,\n",
       "           3.80187731e-15,   1.63171213e-11,   1.84953581e-08],\n",
       "        [  1.01403320e-14,   6.87534027e-21,   1.29370688e-29, ...,\n",
       "           1.39613678e-24,   6.52608446e-18,   9.79715170e-14],\n",
       "        [  1.69815010e-18,   1.40625365e-26,   2.49199072e-38, ...,\n",
       "           3.37931557e-32,   4.82373961e-26,   7.40290491e-16],\n",
       "        ..., \n",
       "        [  6.50696511e-19,   3.53869444e-26,   1.21521019e-35, ...,\n",
       "           1.79305992e-37,   6.76430989e-28,   2.99866931e-20],\n",
       "        [  4.36729552e-15,   2.86538233e-19,   5.92483844e-27, ...,\n",
       "           2.83051498e-30,   2.10902985e-21,   5.98556891e-17],\n",
       "        [  1.24665500e-09,   4.00918296e-16,   2.33546536e-19, ...,\n",
       "           5.35245795e-21,   3.56329820e-16,   4.45605705e-12]],\n",
       "\n",
       "       [[  1.06227321e-06,   4.70202766e-09,   3.85799205e-12, ...,\n",
       "           2.01735095e-09,   1.68891788e-07,   2.48328024e-06],\n",
       "        [  6.28201935e-09,   1.98666300e-12,   1.13958516e-16, ...,\n",
       "           6.07817968e-14,   2.63039784e-10,   1.10955944e-09],\n",
       "        [  1.15270939e-10,   1.65727105e-16,   1.16225803e-21, ...,\n",
       "           1.19304491e-17,   3.45981551e-14,   3.45813829e-11],\n",
       "        ..., \n",
       "        [  1.21981675e-10,   3.26351270e-15,   4.83533092e-17, ...,\n",
       "           5.10880064e-18,   9.50935430e-14,   1.70059036e-11],\n",
       "        [  3.17399285e-09,   2.17274965e-11,   3.43501947e-14, ...,\n",
       "           1.59858766e-14,   5.74839412e-11,   1.63698199e-09],\n",
       "        [  6.01313832e-06,   8.84598172e-09,   1.05654756e-10, ...,\n",
       "           2.98510883e-10,   4.73589061e-08,   2.02613637e-06]]], dtype=float32)"
      ]
     },
     "execution_count": 13,
     "metadata": {},
     "output_type": "execute_result"
    }
   ],
   "source": [
    "preds[21][0]"
   ]
  },
  {
   "cell_type": "code",
   "execution_count": 14,
   "metadata": {
    "collapsed": false,
    "deletable": true,
    "editable": true,
    "scrolled": true
   },
   "outputs": [],
   "source": [
    "preds2 = preds.copy()\n",
    "preds2[preds2 >= 0.01] = 1"
   ]
  },
  {
   "cell_type": "code",
   "execution_count": 15,
   "metadata": {
    "collapsed": false,
    "deletable": true,
    "editable": true
   },
   "outputs": [
    {
     "data": {
      "image/png": "[encoded data removed]",
      "text/plain": [
       "<matplotlib.figure.Figure at 0x7f9c980c8e90>"
      ]
     },
     "metadata": {},
     "output_type": "display_data"
    }
   ],
   "source": [
    "def check_pred(index1, index2):\n",
    "    print_mask(ms[index1][0][index2], preds2[index1][0][index2])\n",
    "    return\n",
    "\n",
    "check_pred(5, 127)"
   ]
  },
  {
   "cell_type": "code",
   "execution_count": 16,
   "metadata": {
    "collapsed": false,
    "deletable": true,
    "editable": true,
    "scrolled": true
   },
   "outputs": [],
   "source": [
    "patient_max = {}\n",
    "for i in range(len(preds)):\n",
    "    val_max = {}\n",
    "    zero = 1e-5\n",
    "    for j in range(preds[i].shape[1]):\n",
    "        current_max = np.max(preds[i, 0, j, :, :])\n",
    "        if current_max > zero:\n",
    "            val_max[j] = current_max\n",
    "    patient_max[i] = val_max"
   ]
  },
  {
   "cell_type": "code",
   "execution_count": 17,
   "metadata": {
    "collapsed": false,
    "deletable": true,
    "editable": true
   },
   "outputs": [
    {
     "data": {
      "text/plain": [
       "{0: {0: 1.4114524e-05},\n",
       " 1: {0: 1.4114524e-05},\n",
       " 2: {0: 1.4114524e-05},\n",
       " 3: {0: 1.4114524e-05},\n",
       " 4: {0: 1.4509495e-05},\n",
       " 5: {0: 1.4509495e-05},\n",
       " 6: {0: 1.3747076e-05},\n",
       " 7: {0: 1.3747076e-05},\n",
       " 8: {0: 1.7992767e-05},\n",
       " 9: {0: 1.3813441e-05},\n",
       " 10: {0: 1.3813441e-05},\n",
       " 11: {0: 1.4248685e-05},\n",
       " 12: {0: 1.4248685e-05},\n",
       " 13: {0: 1.3964809e-05},\n",
       " 14: {0: 1.3964809e-05},\n",
       " 15: {0: 1.3964809e-05},\n",
       " 16: {0: 1.3964809e-05},\n",
       " 17: {0: 1.5169167e-05},\n",
       " 18: {0: 1.5169167e-05},\n",
       " 19: {0: 1.5169167e-05},\n",
       " 20: {0: 1.373236e-05},\n",
       " 21: {0: 1.373236e-05},\n",
       " 22: {0: 1.373236e-05},\n",
       " 23: {0: 1.373236e-05},\n",
       " 24: {0: 1.9015857e-05}}"
      ]
     },
     "execution_count": 17,
     "metadata": {},
     "output_type": "execute_result"
    }
   ],
   "source": [
    "patient_max"
   ]
  },
  {
   "cell_type": "code",
   "execution_count": null,
   "metadata": {
    "collapsed": true,
    "deletable": true,
    "editable": true
   },
   "outputs": [],
   "source": []
  }
 ],
 "metadata": {
  "kernelspec": {
   "display_name": "Python 2",
   "language": "python",
   "name": "python2"
  },
  "language_info": {
   "codemirror_mode": {
    "name": "ipython",
    "version": 2
   },
   "file_extension": ".py",
   "mimetype": "text/x-python",
   "name": "python",
   "nbconvert_exporter": "python",
   "pygments_lexer": "ipython2",
   "version": "2.7.12"
  }
 },
 "nbformat": 4,
 "nbformat_minor": 2
}
